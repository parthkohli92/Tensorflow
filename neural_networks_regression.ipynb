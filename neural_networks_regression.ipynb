{
  "nbformat": 4,
  "nbformat_minor": 0,
  "metadata": {
    "colab": {
      "name": "neural_networks_regression.ipynb",
      "provenance": [],
      "authorship_tag": "ABX9TyPjEk9Bsv8bduHvXAmK7COY",
      "include_colab_link": true
    },
    "kernelspec": {
      "name": "python3",
      "display_name": "Python 3"
    },
    "language_info": {
      "name": "python"
    }
  },
  "cells": [
    {
      "cell_type": "markdown",
      "metadata": {
        "id": "view-in-github",
        "colab_type": "text"
      },
      "source": [
        "<a href=\"https://colab.research.google.com/github/parthkohli92/Tensorflow/blob/main/neural_networks_regression.ipynb\" target=\"_parent\"><img src=\"https://colab.research.google.com/assets/colab-badge.svg\" alt=\"Open In Colab\"/></a>"
      ]
    },
    {
      "cell_type": "code",
      "metadata": {
        "colab": {
          "base_uri": "https://localhost:8080/"
        },
        "id": "nL3CKMSX8s1q",
        "outputId": "8bdee9f9-80bf-431b-b3cf-3bb09e8023d1"
      },
      "source": [
        "import tensorflow as tf \n",
        "print(tf.__version__)"
      ],
      "execution_count": 1,
      "outputs": [
        {
          "output_type": "stream",
          "name": "stdout",
          "text": [
            "2.6.0\n"
          ]
        }
      ]
    },
    {
      "cell_type": "markdown",
      "metadata": {
        "id": "OPIpQyaWJ6l3"
      },
      "source": [
        "\n",
        "```\n",
        "\n",
        "# Creating data to view and fit "
      ]
    },
    {
      "cell_type": "code",
      "metadata": {
        "colab": {
          "base_uri": "https://localhost:8080/",
          "height": 286
        },
        "id": "0cxmoTTkJ-wx",
        "outputId": "65b60bab-38f7-4c44-e3d7-6200aea85816"
      },
      "source": [
        "# Since we're working on regression problem (predicting a number) let's create some linear data( a straight line) to model.\n",
        "\n",
        "import numpy as np\n",
        "import matplotlib.pyplot as plt\n",
        "\n",
        "# Create features \n",
        "X = np.array([-8.0,-4.0,-2.0,-1.0,2.0,4.0,11.0,14.0])\n",
        "\n",
        "# Create Labels \n",
        "Y = np.array([3.0,6.0,9.0,12.0,15.0,18.0,21.0,24.0])\n",
        "\n",
        "# Visualize it \n",
        "plt.scatter(X,Y)"
      ],
      "execution_count": 2,
      "outputs": [
        {
          "output_type": "execute_result",
          "data": {
            "text/plain": [
              "<matplotlib.collections.PathCollection at 0x7f57bf72f890>"
            ]
          },
          "metadata": {},
          "execution_count": 2
        },
        {
          "output_type": "display_data",
          "data": {
            "image/png": "[encoded data removed]",
            "text/plain": [
              "<Figure size 432x288 with 1 Axes>"
            ]
          },
          "metadata": {
            "needs_background": "light"
          }
        }
      ]
    },
    {
      "cell_type": "code",
      "metadata": {
        "colab": {
          "base_uri": "https://localhost:8080/"
        },
        "id": "zCipJ51IKw4d",
        "outputId": "aa1ad8f9-cd71-4ffa-bcf9-f89fb087f708"
      },
      "source": [
        "house_info = tf.constant([\"bedroom\",\"bathroom\",\"garage\"])\n",
        "house_price = tf.constant([900000])\n",
        "house_info, house_price"
      ],
      "execution_count": 3,
      "outputs": [
        {
          "output_type": "execute_result",
          "data": {
            "text/plain": [
              "(<tf.Tensor: shape=(3,), dtype=string, numpy=array([b'bedroom', b'bathroom', b'garage'], dtype=object)>,\n",
              " <tf.Tensor: shape=(1,), dtype=int32, numpy=array([900000], dtype=int32)>)"
            ]
          },
          "metadata": {},
          "execution_count": 3
        }
      ]
    },
    {
      "cell_type": "code",
      "metadata": {
        "colab": {
          "base_uri": "https://localhost:8080/"
        },
        "id": "L8nPMH4GLVgh",
        "outputId": "88f7a02f-2553-43a9-c967-52c63c322eca"
      },
      "source": [
        "house_info.shape"
      ],
      "execution_count": 4,
      "outputs": [
        {
          "output_type": "execute_result",
          "data": {
            "text/plain": [
              "TensorShape([3])"
            ]
          },
          "metadata": {},
          "execution_count": 4
        }
      ]
    },
    {
      "cell_type": "code",
      "metadata": {
        "colab": {
          "base_uri": "https://localhost:8080/",
          "height": 286
        },
        "id": "OAGxYqAeLxTe",
        "outputId": "88287b4c-015b-4527-bdca-b81ad77a3758"
      },
      "source": [
        "import numpy as np\n",
        "import matplotlib.pyplot as plt\n",
        "\n",
        "# Create features (using tensors)\n",
        "X = tf.constant([-7.0, -4.0, -1.0, 2.0, 5.0, 8.0, 11.0, 14.0])\n",
        "\n",
        "# Create labels (using tensors)\n",
        "y = tf.constant([3.0, 6.0, 9.0, 12.0, 15.0, 18.0, 21.0, 24.0])\n",
        "\n",
        "# Visualize it\n",
        "plt.scatter(X, y)"
      ],
      "execution_count": 5,
      "outputs": [
        {
          "output_type": "execute_result",
          "data": {
            "text/plain": [
              "<matplotlib.collections.PathCollection at 0x7f57bf29ae10>"
            ]
          },
          "metadata": {},
          "execution_count": 5
        },
        {
          "output_type": "display_data",
          "data": {
            "image/png": "[encoded data removed]",
            "text/plain": [
              "<Figure size 432x288 with 1 Axes>"
            ]
          },
          "metadata": {
            "needs_background": "light"
          }
        }
      ]
    },
    {
      "cell_type": "code",
      "metadata": {
        "colab": {
          "base_uri": "https://localhost:8080/"
        },
        "id": "_cbOQT7sLZZH",
        "outputId": "6187e922-4805-4172-b0a1-b1701309aa62"
      },
      "source": [
        "input_shape = X[0].shape\n",
        "\n",
        "output_shape = y[0].shape\n",
        "\n",
        "input_shape, output_shape\n"
      ],
      "execution_count": 6,
      "outputs": [
        {
          "output_type": "execute_result",
          "data": {
            "text/plain": [
              "(TensorShape([]), TensorShape([]))"
            ]
          },
          "metadata": {},
          "execution_count": 6
        }
      ]
    },
    {
      "cell_type": "code",
      "metadata": {
        "colab": {
          "base_uri": "https://localhost:8080/"
        },
        "id": "iN6gea0iLqhG",
        "outputId": "40c9ad41-33ee-40b6-bad1-c58176d33408"
      },
      "source": [
        "X[0], y[0]"
      ],
      "execution_count": 7,
      "outputs": [
        {
          "output_type": "execute_result",
          "data": {
            "text/plain": [
              "(<tf.Tensor: shape=(), dtype=float32, numpy=-7.0>,\n",
              " <tf.Tensor: shape=(), dtype=float32, numpy=3.0>)"
            ]
          },
          "metadata": {},
          "execution_count": 7
        }
      ]
    },
    {
      "cell_type": "markdown",
      "metadata": {
        "id": "wOy56pw3L8vk"
      },
      "source": [
        "## Creating A Model"
      ]
    },
    {
      "cell_type": "code",
      "metadata": {
        "colab": {
          "base_uri": "https://localhost:8080/"
        },
        "id": "3Q3ycJByMEQX",
        "outputId": "5056e6c5-efb6-402c-85a5-368c1751d038"
      },
      "source": [
        "# Set Random Seed\n",
        "tf.random.set_seed(42)\n",
        "\n",
        "# Creating the model \n",
        "model = tf.keras.Sequential([\n",
        "  tf.keras.layers.Dense(10)\n",
        "])\n",
        "\n",
        "# Compiling the model\n",
        "model.compile(loss=tf.keras.losses.mae,\n",
        "              optimizer=tf.keras.optimizers.SGD(),\n",
        "              metrics=[\"mae\"])\n",
        "\n",
        "# Fit the model\n",
        "model.fit(X,y,epochs=100)"
      ],
      "execution_count": 8,
      "outputs": [
        {
          "output_type": "stream",
          "name": "stdout",
          "text": [
            "Epoch 1/100\n",
            "1/1 [==============================] - 1s 690ms/step - loss: 13.6989 - mae: 13.6989\n",
            "Epoch 2/100\n",
            "1/1 [==============================] - 0s 7ms/step - loss: 13.6842 - mae: 13.6842\n",
            "Epoch 3/100\n",
            "1/1 [==============================] - 0s 8ms/step - loss: 13.6694 - mae: 13.6694\n",
            "Epoch 4/100\n",
            "1/1 [==============================] - 0s 6ms/step - loss: 13.6547 - mae: 13.6547\n",
            "Epoch 5/100\n",
            "1/1 [==============================] - 0s 5ms/step - loss: 13.6400 - mae: 13.6400\n",
            "Epoch 6/100\n",
            "1/1 [==============================] - 0s 7ms/step - loss: 13.6252 - mae: 13.6252\n",
            "Epoch 7/100\n",
            "1/1 [==============================] - 0s 5ms/step - loss: 13.6105 - mae: 13.6105\n",
            "Epoch 8/100\n",
            "1/1 [==============================] - 0s 8ms/step - loss: 13.5957 - mae: 13.5957\n",
            "Epoch 9/100\n",
            "1/1 [==============================] - 0s 5ms/step - loss: 13.5810 - mae: 13.5810\n",
            "Epoch 10/100\n",
            "1/1 [==============================] - 0s 6ms/step - loss: 13.5663 - mae: 13.5663\n",
            "Epoch 11/100\n",
            "1/1 [==============================] - 0s 9ms/step - loss: 13.5515 - mae: 13.5515\n",
            "Epoch 12/100\n",
            "1/1 [==============================] - 0s 7ms/step - loss: 13.5368 - mae: 13.5368\n",
            "Epoch 13/100\n",
            "1/1 [==============================] - 0s 6ms/step - loss: 13.5221 - mae: 13.5221\n",
            "Epoch 14/100\n",
            "1/1 [==============================] - 0s 8ms/step - loss: 13.5073 - mae: 13.5073\n",
            "Epoch 15/100\n",
            "1/1 [==============================] - 0s 6ms/step - loss: 13.4926 - mae: 13.4926\n",
            "Epoch 16/100\n",
            "1/1 [==============================] - 0s 6ms/step - loss: 13.4778 - mae: 13.4778\n",
            "Epoch 17/100\n",
            "1/1 [==============================] - 0s 15ms/step - loss: 13.4631 - mae: 13.4631\n",
            "Epoch 18/100\n",
            "1/1 [==============================] - 0s 6ms/step - loss: 13.4484 - mae: 13.4484\n",
            "Epoch 19/100\n",
            "1/1 [==============================] - 0s 6ms/step - loss: 13.4336 - mae: 13.4336\n",
            "Epoch 20/100\n",
            "1/1 [==============================] - 0s 5ms/step - loss: 13.4189 - mae: 13.4189\n",
            "Epoch 21/100\n",
            "1/1 [==============================] - 0s 7ms/step - loss: 13.4042 - mae: 13.4042\n",
            "Epoch 22/100\n",
            "1/1 [==============================] - 0s 5ms/step - loss: 13.3894 - mae: 13.3894\n",
            "Epoch 23/100\n",
            "1/1 [==============================] - 0s 7ms/step - loss: 13.3747 - mae: 13.3747\n",
            "Epoch 24/100\n",
            "1/1 [==============================] - 0s 15ms/step - loss: 13.3599 - mae: 13.3599\n",
            "Epoch 25/100\n",
            "1/1 [==============================] - 0s 5ms/step - loss: 13.3452 - mae: 13.3452\n",
            "Epoch 26/100\n",
            "1/1 [==============================] - 0s 6ms/step - loss: 13.3305 - mae: 13.3305\n",
            "Epoch 27/100\n",
            "1/1 [==============================] - 0s 6ms/step - loss: 13.3157 - mae: 13.3157\n",
            "Epoch 28/100\n",
            "1/1 [==============================] - 0s 6ms/step - loss: 13.3010 - mae: 13.3010\n",
            "Epoch 29/100\n",
            "1/1 [==============================] - 0s 6ms/step - loss: 13.2863 - mae: 13.2863\n",
            "Epoch 30/100\n",
            "1/1 [==============================] - 0s 5ms/step - loss: 13.2715 - mae: 13.2715\n",
            "Epoch 31/100\n",
            "1/1 [==============================] - 0s 7ms/step - loss: 13.2568 - mae: 13.2568\n",
            "Epoch 32/100\n",
            "1/1 [==============================] - 0s 5ms/step - loss: 13.2420 - mae: 13.2420\n",
            "Epoch 33/100\n",
            "1/1 [==============================] - 0s 6ms/step - loss: 13.2273 - mae: 13.2273\n",
            "Epoch 34/100\n",
            "1/1 [==============================] - 0s 8ms/step - loss: 13.2126 - mae: 13.2126\n",
            "Epoch 35/100\n",
            "1/1 [==============================] - 0s 9ms/step - loss: 13.1978 - mae: 13.1978\n",
            "Epoch 36/100\n",
            "1/1 [==============================] - 0s 5ms/step - loss: 13.1831 - mae: 13.1831\n",
            "Epoch 37/100\n",
            "1/1 [==============================] - 0s 5ms/step - loss: 13.1684 - mae: 13.1684\n",
            "Epoch 38/100\n",
            "1/1 [==============================] - 0s 8ms/step - loss: 13.1536 - mae: 13.1536\n",
            "Epoch 39/100\n",
            "1/1 [==============================] - 0s 9ms/step - loss: 13.1389 - mae: 13.1389\n",
            "Epoch 40/100\n",
            "1/1 [==============================] - 0s 5ms/step - loss: 13.1241 - mae: 13.1241\n",
            "Epoch 41/100\n",
            "1/1 [==============================] - 0s 7ms/step - loss: 13.1094 - mae: 13.1094\n",
            "Epoch 42/100\n",
            "1/1 [==============================] - 0s 12ms/step - loss: 13.0947 - mae: 13.0947\n",
            "Epoch 43/100\n",
            "1/1 [==============================] - 0s 5ms/step - loss: 13.0799 - mae: 13.0799\n",
            "Epoch 44/100\n",
            "1/1 [==============================] - 0s 8ms/step - loss: 13.0652 - mae: 13.0652\n",
            "Epoch 45/100\n",
            "1/1 [==============================] - 0s 11ms/step - loss: 13.0505 - mae: 13.0505\n",
            "Epoch 46/100\n",
            "1/1 [==============================] - 0s 5ms/step - loss: 13.0357 - mae: 13.0357\n",
            "Epoch 47/100\n",
            "1/1 [==============================] - 0s 7ms/step - loss: 13.0210 - mae: 13.0210\n",
            "Epoch 48/100\n",
            "1/1 [==============================] - 0s 8ms/step - loss: 13.0062 - mae: 13.0062\n",
            "Epoch 49/100\n",
            "1/1 [==============================] - 0s 8ms/step - loss: 12.9915 - mae: 12.9915\n",
            "Epoch 50/100\n",
            "1/1 [==============================] - 0s 5ms/step - loss: 12.9768 - mae: 12.9768\n",
            "Epoch 51/100\n",
            "1/1 [==============================] - 0s 6ms/step - loss: 12.9620 - mae: 12.9620\n",
            "Epoch 52/100\n",
            "1/1 [==============================] - 0s 6ms/step - loss: 12.9476 - mae: 12.9476\n",
            "Epoch 53/100\n",
            "1/1 [==============================] - 0s 13ms/step - loss: 12.9344 - mae: 12.9344\n",
            "Epoch 54/100\n",
            "1/1 [==============================] - 0s 17ms/step - loss: 12.9212 - mae: 12.9212\n",
            "Epoch 55/100\n",
            "1/1 [==============================] - 0s 9ms/step - loss: 12.9079 - mae: 12.9079\n",
            "Epoch 56/100\n",
            "1/1 [==============================] - 0s 4ms/step - loss: 12.8946 - mae: 12.8946\n",
            "Epoch 57/100\n",
            "1/1 [==============================] - 0s 6ms/step - loss: 12.8814 - mae: 12.8814\n",
            "Epoch 58/100\n",
            "1/1 [==============================] - 0s 6ms/step - loss: 12.8681 - mae: 12.8681\n",
            "Epoch 59/100\n",
            "1/1 [==============================] - 0s 6ms/step - loss: 12.8549 - mae: 12.8549\n",
            "Epoch 60/100\n",
            "1/1 [==============================] - 0s 5ms/step - loss: 12.8417 - mae: 12.8417\n",
            "Epoch 61/100\n",
            "1/1 [==============================] - 0s 5ms/step - loss: 12.8284 - mae: 12.8284\n",
            "Epoch 62/100\n",
            "1/1 [==============================] - 0s 9ms/step - loss: 12.8151 - mae: 12.8151\n",
            "Epoch 63/100\n",
            "1/1 [==============================] - 0s 4ms/step - loss: 12.8019 - mae: 12.8019\n",
            "Epoch 64/100\n",
            "1/1 [==============================] - 0s 6ms/step - loss: 12.7886 - mae: 12.7886\n",
            "Epoch 65/100\n",
            "1/1 [==============================] - 0s 5ms/step - loss: 12.7754 - mae: 12.7754\n",
            "Epoch 66/100\n",
            "1/1 [==============================] - 0s 7ms/step - loss: 12.7621 - mae: 12.7621\n",
            "Epoch 67/100\n",
            "1/1 [==============================] - 0s 10ms/step - loss: 12.7489 - mae: 12.7489\n",
            "Epoch 68/100\n",
            "1/1 [==============================] - 0s 7ms/step - loss: 12.7357 - mae: 12.7357\n",
            "Epoch 69/100\n",
            "1/1 [==============================] - 0s 9ms/step - loss: 12.7224 - mae: 12.7224\n",
            "Epoch 70/100\n",
            "1/1 [==============================] - 0s 6ms/step - loss: 12.7091 - mae: 12.7091\n",
            "Epoch 71/100\n",
            "1/1 [==============================] - 0s 6ms/step - loss: 12.6959 - mae: 12.6959\n",
            "Epoch 72/100\n",
            "1/1 [==============================] - 0s 9ms/step - loss: 12.6826 - mae: 12.6826\n",
            "Epoch 73/100\n",
            "1/1 [==============================] - 0s 6ms/step - loss: 12.6694 - mae: 12.6694\n",
            "Epoch 74/100\n",
            "1/1 [==============================] - 0s 11ms/step - loss: 12.6561 - mae: 12.6561\n",
            "Epoch 75/100\n",
            "1/1 [==============================] - 0s 10ms/step - loss: 12.6429 - mae: 12.6429\n",
            "Epoch 76/100\n",
            "1/1 [==============================] - 0s 6ms/step - loss: 12.6297 - mae: 12.6297\n",
            "Epoch 77/100\n",
            "1/1 [==============================] - 0s 5ms/step - loss: 12.6164 - mae: 12.6164\n",
            "Epoch 78/100\n",
            "1/1 [==============================] - 0s 5ms/step - loss: 12.6031 - mae: 12.6031\n",
            "Epoch 79/100\n",
            "1/1 [==============================] - 0s 6ms/step - loss: 12.5899 - mae: 12.5899\n",
            "Epoch 80/100\n",
            "1/1 [==============================] - 0s 6ms/step - loss: 12.5766 - mae: 12.5766\n",
            "Epoch 81/100\n",
            "1/1 [==============================] - 0s 5ms/step - loss: 12.5634 - mae: 12.5634\n",
            "Epoch 82/100\n",
            "1/1 [==============================] - 0s 4ms/step - loss: 12.5501 - mae: 12.5501\n",
            "Epoch 83/100\n",
            "1/1 [==============================] - 0s 6ms/step - loss: 12.5369 - mae: 12.5369\n",
            "Epoch 84/100\n",
            "1/1 [==============================] - 0s 5ms/step - loss: 12.5236 - mae: 12.5236\n",
            "Epoch 85/100\n",
            "1/1 [==============================] - 0s 7ms/step - loss: 12.5104 - mae: 12.5104\n",
            "Epoch 86/100\n",
            "1/1 [==============================] - 0s 4ms/step - loss: 12.4971 - mae: 12.4971\n",
            "Epoch 87/100\n",
            "1/1 [==============================] - 0s 5ms/step - loss: 12.4839 - mae: 12.4839\n",
            "Epoch 88/100\n",
            "1/1 [==============================] - 0s 7ms/step - loss: 12.4706 - mae: 12.4706\n",
            "Epoch 89/100\n",
            "1/1 [==============================] - 0s 4ms/step - loss: 12.4574 - mae: 12.4574\n",
            "Epoch 90/100\n",
            "1/1 [==============================] - 0s 8ms/step - loss: 12.4441 - mae: 12.4441\n",
            "Epoch 91/100\n",
            "1/1 [==============================] - 0s 5ms/step - loss: 12.4309 - mae: 12.4309\n",
            "Epoch 92/100\n",
            "1/1 [==============================] - 0s 7ms/step - loss: 12.4176 - mae: 12.4176\n",
            "Epoch 93/100\n",
            "1/1 [==============================] - 0s 4ms/step - loss: 12.4044 - mae: 12.4044\n",
            "Epoch 94/100\n",
            "1/1 [==============================] - 0s 14ms/step - loss: 12.3911 - mae: 12.3911\n",
            "Epoch 95/100\n",
            "1/1 [==============================] - 0s 19ms/step - loss: 12.3779 - mae: 12.3779\n",
            "Epoch 96/100\n",
            "1/1 [==============================] - 0s 8ms/step - loss: 12.3647 - mae: 12.3647\n",
            "Epoch 97/100\n",
            "1/1 [==============================] - 0s 9ms/step - loss: 12.3514 - mae: 12.3514\n",
            "Epoch 98/100\n",
            "1/1 [==============================] - 0s 13ms/step - loss: 12.3382 - mae: 12.3382\n",
            "Epoch 99/100\n",
            "1/1 [==============================] - 0s 6ms/step - loss: 12.3249 - mae: 12.3249\n",
            "Epoch 100/100\n",
            "1/1 [==============================] - 0s 23ms/step - loss: 12.3116 - mae: 12.3116\n"
          ]
        },
        {
          "output_type": "execute_result",
          "data": {
            "text/plain": [
              "<keras.callbacks.History at 0x7f57baf43510>"
            ]
          },
          "metadata": {},
          "execution_count": 8
        }
      ]
    },
    {
      "cell_type": "code",
      "metadata": {
        "colab": {
          "base_uri": "https://localhost:8080/"
        },
        "id": "pC-jWEjLMwwB",
        "outputId": "52494c46-f68e-4171-acda-86322d3f4731"
      },
      "source": [
        "X,y"
      ],
      "execution_count": 9,
      "outputs": [
        {
          "output_type": "execute_result",
          "data": {
            "text/plain": [
              "(<tf.Tensor: shape=(8,), dtype=float32, numpy=array([-7., -4., -1.,  2.,  5.,  8., 11., 14.], dtype=float32)>,\n",
              " <tf.Tensor: shape=(8,), dtype=float32, numpy=array([ 3.,  6.,  9., 12., 15., 18., 21., 24.], dtype=float32)>)"
            ]
          },
          "metadata": {},
          "execution_count": 9
        }
      ]
    },
    {
      "cell_type": "code",
      "metadata": {
        "colab": {
          "base_uri": "https://localhost:8080/"
        },
        "id": "74Z6uLimM29w",
        "outputId": "d4efa5c7-1a71-4bee-b11c-5a5141e3abaa"
      },
      "source": [
        "# Make a prediction with the model \n",
        "model.predict([17.0])"
      ],
      "execution_count": 10,
      "outputs": [
        {
          "output_type": "execute_result",
          "data": {
            "text/plain": [
              "array([[10.182273 ,  4.568641 ,  2.355782 ,  5.158136 , -4.1555963,\n",
              "        10.687251 , 12.079502 , 15.402303 , -0.8221183, -0.9007014]],\n",
              "      dtype=float32)"
            ]
          },
          "metadata": {},
          "execution_count": 10
        }
      ]
    },
    {
      "cell_type": "markdown",
      "metadata": {
        "id": "crY3reC4M_w6"
      },
      "source": [
        "## Visualizing"
      ]
    },
    {
      "cell_type": "code",
      "metadata": {
        "id": "0-fZdKZpPFXb"
      },
      "source": [
        "X = np.arange(-100,100,4)"
      ],
      "execution_count": 11,
      "outputs": []
    },
    {
      "cell_type": "code",
      "metadata": {
        "id": "1jY-1uVxPIKT"
      },
      "source": [
        "y = np.arange(-90,110,4)"
      ],
      "execution_count": 12,
      "outputs": []
    },
    {
      "cell_type": "code",
      "metadata": {
        "colab": {
          "base_uri": "https://localhost:8080/"
        },
        "id": "2XREf6qtPLqu",
        "outputId": "c66154d3-4651-44a2-a9b2-1479b84980f0"
      },
      "source": [
        "y = X + 10\n",
        "y"
      ],
      "execution_count": 13,
      "outputs": [
        {
          "output_type": "execute_result",
          "data": {
            "text/plain": [
              "array([-90, -86, -82, -78, -74, -70, -66, -62, -58, -54, -50, -46, -42,\n",
              "       -38, -34, -30, -26, -22, -18, -14, -10,  -6,  -2,   2,   6,  10,\n",
              "        14,  18,  22,  26,  30,  34,  38,  42,  46,  50,  54,  58,  62,\n",
              "        66,  70,  74,  78,  82,  86,  90,  94,  98, 102, 106])"
            ]
          },
          "metadata": {},
          "execution_count": 13
        }
      ]
    },
    {
      "cell_type": "markdown",
      "metadata": {
        "id": "WBG5KiDzPN_G"
      },
      "source": [
        "#### Split data into training and testing set "
      ]
    },
    {
      "cell_type": "code",
      "metadata": {
        "colab": {
          "base_uri": "https://localhost:8080/"
        },
        "id": "vf-YouUePS7M",
        "outputId": "fbf93457-556b-44cc-f16c-479309a5cb6b"
      },
      "source": [
        " len(X)"
      ],
      "execution_count": 14,
      "outputs": [
        {
          "output_type": "execute_result",
          "data": {
            "text/plain": [
              "50"
            ]
          },
          "metadata": {},
          "execution_count": 14
        }
      ]
    },
    {
      "cell_type": "code",
      "metadata": {
        "colab": {
          "base_uri": "https://localhost:8080/"
        },
        "id": "1LJE59fSPoiV",
        "outputId": "c5e34580-14a4-4eae-ed83-bba1f5834cf5"
      },
      "source": [
        "# Split \n",
        "X_train = X[:40]\n",
        "y_train = y[:40]\n",
        "X_test = X[40:]\n",
        "y_test = y[40:]\n",
        "\n",
        "len(X_train), len(X_test)"
      ],
      "execution_count": 15,
      "outputs": [
        {
          "output_type": "execute_result",
          "data": {
            "text/plain": [
              "(40, 10)"
            ]
          },
          "metadata": {},
          "execution_count": 15
        }
      ]
    },
    {
      "cell_type": "code",
      "metadata": {
        "colab": {
          "base_uri": "https://localhost:8080/",
          "height": 592
        },
        "id": "MWfv6AewP7eE",
        "outputId": "e8f6e186-59ae-453f-cec1-9d2a51286cbb"
      },
      "source": [
        "plt.figure(figsize=(10,10))\n",
        "# Plot training data in blue\n",
        "plt.scatter(X_train, y_train, c='b', label='Training data')\n",
        "# Plot test data in green\n",
        "plt.scatter(X_test, y_test, c='g', label='Testing data')\n",
        "# Show the legend\n",
        "plt.legend();"
      ],
      "execution_count": 16,
      "outputs": [
        {
          "output_type": "display_data",
          "data": {
            "image/png": "[encoded data removed]",
            "text/plain": [
              "<Figure size 720x720 with 1 Axes>"
            ]
          },
          "metadata": {
            "needs_background": "light"
          }
        }
      ]
    },
    {
      "cell_type": "code",
      "metadata": {
        "id": "b1c2BBlMQHBp"
      },
      "source": [
        "# Set random seed\n",
        "tf.random.set_seed(42)\n",
        "\n",
        "# Create a model (same as above)\n",
        "model = tf.keras.Sequential([\n",
        "  tf.keras.layers.Dense(1, input_shape=[1]) # define the input_shape to our model\n",
        "])\n",
        "\n",
        "# Compile model (same as above)\n",
        "model.compile(loss=tf.keras.losses.mae,\n",
        "              optimizer=tf.keras.optimizers.SGD(),\n",
        "              metrics=[\"mae\"])"
      ],
      "execution_count": 17,
      "outputs": []
    },
    {
      "cell_type": "code",
      "metadata": {
        "colab": {
          "base_uri": "https://localhost:8080/"
        },
        "id": "POFZ45ntQQSa",
        "outputId": "e1d9b70f-e0f5-48c3-9ad9-3932eb20bafe"
      },
      "source": [
        "model.summary()"
      ],
      "execution_count": 18,
      "outputs": [
        {
          "output_type": "stream",
          "name": "stdout",
          "text": [
            "Model: \"sequential_1\"\n",
            "_________________________________________________________________\n",
            "Layer (type)                 Output Shape              Param #   \n",
            "=================================================================\n",
            "dense_1 (Dense)              (None, 1)                 2         \n",
            "=================================================================\n",
            "Total params: 2\n",
            "Trainable params: 2\n",
            "Non-trainable params: 0\n",
            "_________________________________________________________________\n"
          ]
        }
      ]
    },
    {
      "cell_type": "code",
      "metadata": {
        "colab": {
          "base_uri": "https://localhost:8080/"
        },
        "id": "-5KBgsrGQR-n",
        "outputId": "4a436d4c-e1d8-41c5-af2a-ef64047b8b9b"
      },
      "source": [
        "model.fit(X_train,y_train,epochs=100,verbose=0)"
      ],
      "execution_count": 19,
      "outputs": [
        {
          "output_type": "execute_result",
          "data": {
            "text/plain": [
              "<keras.callbacks.History at 0x7f57bad54b50>"
            ]
          },
          "metadata": {},
          "execution_count": 19
        }
      ]
    },
    {
      "cell_type": "code",
      "metadata": {
        "colab": {
          "base_uri": "https://localhost:8080/"
        },
        "id": "pg1gvYnQQY4o",
        "outputId": "b7523b4a-c85f-4169-b24e-d48c9a1922b1"
      },
      "source": [
        "model.summary()"
      ],
      "execution_count": 20,
      "outputs": [
        {
          "output_type": "stream",
          "name": "stdout",
          "text": [
            "Model: \"sequential_1\"\n",
            "_________________________________________________________________\n",
            "Layer (type)                 Output Shape              Param #   \n",
            "=================================================================\n",
            "dense_1 (Dense)              (None, 1)                 2         \n",
            "=================================================================\n",
            "Total params: 2\n",
            "Trainable params: 2\n",
            "Non-trainable params: 0\n",
            "_________________________________________________________________\n"
          ]
        }
      ]
    },
    {
      "cell_type": "code",
      "metadata": {
        "colab": {
          "base_uri": "https://localhost:8080/",
          "height": 201
        },
        "id": "PPRiXKPiQbpI",
        "outputId": "570f000c-1af1-449c-8ac1-ab4009b47dca"
      },
      "source": [
        "from tensorflow.keras.utils import plot_model\n",
        "\n",
        "plot_model(model, show_shapes=True)"
      ],
      "execution_count": 21,
      "outputs": [
        {
          "output_type": "execute_result",
          "data": {
            "image/png": "[encoded data removed]",
            "text/plain": [
              "<IPython.core.display.Image object>"
            ]
          },
          "metadata": {},
          "execution_count": 21
        }
      ]
    },
    {
      "cell_type": "markdown",
      "metadata": {
        "id": "rlCVYjg4Qg-R"
      },
      "source": [
        "## Visualizing the predictions"
      ]
    },
    {
      "cell_type": "code",
      "metadata": {
        "colab": {
          "base_uri": "https://localhost:8080/"
        },
        "id": "kDxZjTHMXuzs",
        "outputId": "d2cbfd49-295d-4557-da46-e2b1efa4fd43"
      },
      "source": [
        "# Make predictions\n",
        "y_preds = model.predict(X_test)\n",
        "y_preds"
      ],
      "execution_count": 22,
      "outputs": [
        {
          "output_type": "execute_result",
          "data": {
            "text/plain": [
              "array([[53.57109 ],\n",
              "       [57.05633 ],\n",
              "       [60.541573],\n",
              "       [64.02681 ],\n",
              "       [67.512054],\n",
              "       [70.99729 ],\n",
              "       [74.48254 ],\n",
              "       [77.96777 ],\n",
              "       [81.45301 ],\n",
              "       [84.938255]], dtype=float32)"
            ]
          },
          "metadata": {},
          "execution_count": 22
        }
      ]
    },
    {
      "cell_type": "code",
      "metadata": {
        "id": "72GDg7xDX8Ku"
      },
      "source": [
        "# Buiding a plot function for ground truth tables and list of numbers we just got\n",
        "\n",
        "def plot_predictions(train_data = X_train,\n",
        "                     train_labels=y_train,\n",
        "                     test_data=X_test,\n",
        "                     test_labels=y_test,\n",
        "                     predictions=y_preds):\n",
        "  plt.figure(figsize=(8,4))\n",
        "  plt.scatter(train_data, train_labels, c='b', label=\"Training Data\")\n",
        "  plt.scatter(test_data, test_labels, c='g', label=\"Testing Data\")\n",
        "  plt.scatter(test_data, predictions, c='r', label=\"Predictions\")\n",
        "  plt.legend();"
      ],
      "execution_count": 23,
      "outputs": []
    },
    {
      "cell_type": "code",
      "metadata": {
        "colab": {
          "base_uri": "https://localhost:8080/",
          "height": 265
        },
        "id": "urEIlsoSZBSV",
        "outputId": "a839fab0-0e34-4749-a34e-3b26fe1317c2"
      },
      "source": [
        "plot_predictions(train_data = X_train,\n",
        "                     train_labels=y_train,\n",
        "                     test_data=X_test,\n",
        "                     test_labels=y_test,\n",
        "                     predictions=y_preds)"
      ],
      "execution_count": 24,
      "outputs": [
        {
          "output_type": "display_data",
          "data": {
            "image/png": "[encoded data removed]",
            "text/plain": [
              "<Figure size 576x288 with 1 Axes>"
            ]
          },
          "metadata": {
            "needs_background": "light"
          }
        }
      ]
    },
    {
      "cell_type": "markdown",
      "metadata": {
        "id": "e-Z4kFJhZF8j"
      },
      "source": [
        "## Evaluating Predictions\n",
        "\n",
        "* MAE (mean absolute error)\n",
        "* MSE (mean squared error)"
      ]
    },
    {
      "cell_type": "code",
      "metadata": {
        "colab": {
          "base_uri": "https://localhost:8080/"
        },
        "id": "yuK2QHKEZU1p",
        "outputId": "2506e569-7b6d-4aed-b877-1fc8b00f2aa7"
      },
      "source": [
        "model.evaluate(X_test, y_test)"
      ],
      "execution_count": 25,
      "outputs": [
        {
          "output_type": "stream",
          "name": "stdout",
          "text": [
            "1/1 [==============================] - 0s 135ms/step - loss: 18.7453 - mae: 18.7453\n"
          ]
        },
        {
          "output_type": "execute_result",
          "data": {
            "text/plain": [
              "[18.74532699584961, 18.74532699584961]"
            ]
          },
          "metadata": {},
          "execution_count": 25
        }
      ]
    },
    {
      "cell_type": "code",
      "metadata": {
        "colab": {
          "base_uri": "https://localhost:8080/"
        },
        "id": "ytVPD3qfZi96",
        "outputId": "906e29c9-aeb0-484e-b3f1-f58bd4e78067"
      },
      "source": [
        "mae = tf.metrics.mean_absolute_error(y_true=y_test,\n",
        "                                     y_pred=y_preds)\n",
        "mae"
      ],
      "execution_count": 26,
      "outputs": [
        {
          "output_type": "execute_result",
          "data": {
            "text/plain": [
              "<tf.Tensor: shape=(10,), dtype=float32, numpy=\n",
              "array([34.42891 , 30.943668, 27.45843 , 23.97319 , 20.487946, 17.202168,\n",
              "       14.510478, 12.419336, 11.018796, 10.212349], dtype=float32)>"
            ]
          },
          "metadata": {},
          "execution_count": 26
        }
      ]
    },
    {
      "cell_type": "markdown",
      "metadata": {
        "id": "sgpA3jcpZ6pn"
      },
      "source": [
        "MAE should be single output, instead we got 10 values and this is because our y_pred and y_test tensors are different"
      ]
    },
    {
      "cell_type": "code",
      "metadata": {
        "colab": {
          "base_uri": "https://localhost:8080/"
        },
        "id": "ilUTs3MaaY-e",
        "outputId": "875ab32c-3b2d-4fe5-9533-53937dca6b5d"
      },
      "source": [
        "y_test"
      ],
      "execution_count": 27,
      "outputs": [
        {
          "output_type": "execute_result",
          "data": {
            "text/plain": [
              "array([ 70,  74,  78,  82,  86,  90,  94,  98, 102, 106])"
            ]
          },
          "metadata": {},
          "execution_count": 27
        }
      ]
    },
    {
      "cell_type": "code",
      "metadata": {
        "colab": {
          "base_uri": "https://localhost:8080/"
        },
        "id": "NtfgCQ-uad6p",
        "outputId": "93026ea3-d061-47ef-c229-f3e384fa785e"
      },
      "source": [
        "y_preds"
      ],
      "execution_count": 28,
      "outputs": [
        {
          "output_type": "execute_result",
          "data": {
            "text/plain": [
              "array([[53.57109 ],\n",
              "       [57.05633 ],\n",
              "       [60.541573],\n",
              "       [64.02681 ],\n",
              "       [67.512054],\n",
              "       [70.99729 ],\n",
              "       [74.48254 ],\n",
              "       [77.96777 ],\n",
              "       [81.45301 ],\n",
              "       [84.938255]], dtype=float32)"
            ]
          },
          "metadata": {},
          "execution_count": 28
        }
      ]
    },
    {
      "cell_type": "code",
      "metadata": {
        "colab": {
          "base_uri": "https://localhost:8080/"
        },
        "id": "ULjDhjOaageQ",
        "outputId": "e8fda0d1-4d5d-49d8-e5d9-8217657ed6e6"
      },
      "source": [
        "# Checking the tensor shapes\n",
        "y_test.shape, y_preds.shape"
      ],
      "execution_count": 29,
      "outputs": [
        {
          "output_type": "execute_result",
          "data": {
            "text/plain": [
              "((10,), (10, 1))"
            ]
          },
          "metadata": {},
          "execution_count": 29
        }
      ]
    },
    {
      "cell_type": "code",
      "metadata": {
        "colab": {
          "base_uri": "https://localhost:8080/"
        },
        "id": "OLqHnGXFaobF",
        "outputId": "6fdf0a1e-8e0e-4c24-cfb5-6c3ceed5d365"
      },
      "source": [
        "# Using the squeeze() function for y_preds\n",
        "y_preds.squeeze().shape"
      ],
      "execution_count": 30,
      "outputs": [
        {
          "output_type": "execute_result",
          "data": {
            "text/plain": [
              "(10,)"
            ]
          },
          "metadata": {},
          "execution_count": 30
        }
      ]
    },
    {
      "cell_type": "code",
      "metadata": {
        "colab": {
          "base_uri": "https://localhost:8080/"
        },
        "id": "VQ_I6ihza2qg",
        "outputId": "83d18bc1-f856-46d7-9a16-67d80bf416f1"
      },
      "source": [
        "y_test,y_preds.squeeze()"
      ],
      "execution_count": 31,
      "outputs": [
        {
          "output_type": "execute_result",
          "data": {
            "text/plain": [
              "(array([ 70,  74,  78,  82,  86,  90,  94,  98, 102, 106]),\n",
              " array([53.57109 , 57.05633 , 60.541573, 64.02681 , 67.512054, 70.99729 ,\n",
              "        74.48254 , 77.96777 , 81.45301 , 84.938255], dtype=float32))"
            ]
          },
          "metadata": {},
          "execution_count": 31
        }
      ]
    },
    {
      "cell_type": "code",
      "metadata": {
        "colab": {
          "base_uri": "https://localhost:8080/"
        },
        "id": "7KKS1LBsa5_w",
        "outputId": "535cc391-7833-4319-80b8-e0311ce18cb3"
      },
      "source": [
        "# Calculate the mae \n",
        "mae = tf.metrics.mean_absolute_error(y_true=y_test,\n",
        "                                     y_pred=y_preds.squeeze())\n",
        "mae"
      ],
      "execution_count": 33,
      "outputs": [
        {
          "output_type": "execute_result",
          "data": {
            "text/plain": [
              "<tf.Tensor: shape=(), dtype=float32, numpy=18.745327>"
            ]
          },
          "metadata": {},
          "execution_count": 33
        }
      ]
    },
    {
      "cell_type": "code",
      "metadata": {
        "colab": {
          "base_uri": "https://localhost:8080/"
        },
        "id": "nH9ej7yyE7iB",
        "outputId": "269b8711-68ea-4601-9d69-9798a32a2e83"
      },
      "source": [
        "mse = tf.metrics.mean_squared_error(y_true=y_test,\n",
        "                                     y_pred=y_preds.squeeze())\n",
        "mse"
      ],
      "execution_count": 34,
      "outputs": [
        {
          "output_type": "execute_result",
          "data": {
            "text/plain": [
              "<tf.Tensor: shape=(), dtype=float32, numpy=353.57336>"
            ]
          },
          "metadata": {},
          "execution_count": 34
        }
      ]
    },
    {
      "cell_type": "code",
      "metadata": {
        "id": "VOHa9oXiPDDS"
      },
      "source": [
        "def mae(y_test, y_pred):\n",
        "  \"\"\"\n",
        "  Calculuates mean absolute error between y_test and y_preds.\n",
        "  \"\"\"\n",
        "  return tf.metrics.mean_absolute_error(y_test,\n",
        "                                        y_pred)\n",
        "  \n",
        "def mse(y_test, y_pred):\n",
        "  \"\"\"\n",
        "  Calculates mean squared error between y_test and y_preds.\n",
        "  \"\"\"\n",
        "  return tf.metrics.mean_squared_error(y_test,\n",
        "                                       y_pred)"
      ],
      "execution_count": 39,
      "outputs": []
    },
    {
      "cell_type": "markdown",
      "metadata": {
        "id": "urE4YFK8FGG3"
      },
      "source": [
        "## Running experiments to improve a model\n",
        "1. Get more Data\n",
        "2. Make your model larger(use more complex model)\n",
        "3. Train for longer\n",
        "\n",
        "\n",
        "Since we've created our dataset, we could easily make more data but this isnt always the case when youre working with real world datasets\n",
        "\n",
        "So lets take a look at how can i improve our model using 2 and 3 \n",
        "\n",
        "To do so, we'lll create 3 models and compare their results\n",
        "\n",
        "1. model_1 - same as og model,1 layer, trained for 100 epochs \n",
        "2. model_2 - 2 layers, trained for 100 epochs\n",
        "3. model_3 - 2 layers trained for 500 epochs"
      ]
    },
    {
      "cell_type": "markdown",
      "metadata": {
        "id": "lg3_wQYPGIMX"
      },
      "source": [
        "## ** Building model_1 **"
      ]
    },
    {
      "cell_type": "code",
      "metadata": {
        "colab": {
          "base_uri": "https://localhost:8080/"
        },
        "id": "jhZhLQxAGM6n",
        "outputId": "74b506de-2d8f-4119-e82e-c981f7767d57"
      },
      "source": [
        "tf.random.set_seed(42)\n",
        "\n",
        "model_1 = tf.keras.Sequential([tf.keras.layers.Dense(1)])\n",
        "\n",
        "model_1.compile(loss=tf.keras.losses.mae,\n",
        "                optimizer=tf.keras.optimizers.SGD(),\n",
        "                metrics=['mae'])\n",
        "model_1.fit(X_train,y_train, epochs=100)"
      ],
      "execution_count": 36,
      "outputs": [
        {
          "output_type": "stream",
          "name": "stdout",
          "text": [
            "Epoch 1/100\n",
            "2/2 [==============================] - 0s 7ms/step - loss: 15.9024 - mae: 15.9024\n",
            "Epoch 2/100\n",
            "2/2 [==============================] - 0s 6ms/step - loss: 11.2837 - mae: 11.2837\n",
            "Epoch 3/100\n",
            "2/2 [==============================] - 0s 5ms/step - loss: 11.1074 - mae: 11.1074\n",
            "Epoch 4/100\n",
            "2/2 [==============================] - 0s 5ms/step - loss: 9.2991 - mae: 9.2991\n",
            "Epoch 5/100\n",
            "2/2 [==============================] - 0s 13ms/step - loss: 10.1677 - mae: 10.1677\n",
            "Epoch 6/100\n",
            "2/2 [==============================] - 0s 6ms/step - loss: 9.4303 - mae: 9.4303\n",
            "Epoch 7/100\n",
            "2/2 [==============================] - 0s 8ms/step - loss: 8.5704 - mae: 8.5704\n",
            "Epoch 8/100\n",
            "2/2 [==============================] - 0s 8ms/step - loss: 9.0442 - mae: 9.0442\n",
            "Epoch 9/100\n",
            "2/2 [==============================] - 0s 6ms/step - loss: 18.7517 - mae: 18.7517\n",
            "Epoch 10/100\n",
            "2/2 [==============================] - 0s 4ms/step - loss: 10.1142 - mae: 10.1142\n",
            "Epoch 11/100\n",
            "2/2 [==============================] - 0s 7ms/step - loss: 8.3980 - mae: 8.3980\n",
            "Epoch 12/100\n",
            "2/2 [==============================] - 0s 7ms/step - loss: 10.6639 - mae: 10.6639\n",
            "Epoch 13/100\n",
            "2/2 [==============================] - 0s 6ms/step - loss: 9.7977 - mae: 9.7977\n",
            "Epoch 14/100\n",
            "2/2 [==============================] - 0s 7ms/step - loss: 16.0103 - mae: 16.0103\n",
            "Epoch 15/100\n",
            "2/2 [==============================] - 0s 11ms/step - loss: 11.4068 - mae: 11.4068\n",
            "Epoch 16/100\n",
            "2/2 [==============================] - 0s 6ms/step - loss: 8.5393 - mae: 8.5393\n",
            "Epoch 17/100\n",
            "2/2 [==============================] - 0s 7ms/step - loss: 13.6348 - mae: 13.6348\n",
            "Epoch 18/100\n",
            "2/2 [==============================] - 0s 8ms/step - loss: 11.4629 - mae: 11.4629\n",
            "Epoch 19/100\n",
            "2/2 [==============================] - 0s 4ms/step - loss: 17.9148 - mae: 17.9148\n",
            "Epoch 20/100\n",
            "2/2 [==============================] - 0s 6ms/step - loss: 15.0494 - mae: 15.0494\n",
            "Epoch 21/100\n",
            "2/2 [==============================] - 0s 5ms/step - loss: 11.0216 - mae: 11.0216\n",
            "Epoch 22/100\n",
            "2/2 [==============================] - 0s 5ms/step - loss: 8.1558 - mae: 8.1558\n",
            "Epoch 23/100\n",
            "2/2 [==============================] - 0s 3ms/step - loss: 9.5138 - mae: 9.5138\n",
            "Epoch 24/100\n",
            "2/2 [==============================] - 0s 7ms/step - loss: 7.6617 - mae: 7.6617\n",
            "Epoch 25/100\n",
            "2/2 [==============================] - 0s 6ms/step - loss: 13.1859 - mae: 13.1859\n",
            "Epoch 26/100\n",
            "2/2 [==============================] - 0s 5ms/step - loss: 16.4211 - mae: 16.4211\n",
            "Epoch 27/100\n",
            "2/2 [==============================] - 0s 6ms/step - loss: 13.1660 - mae: 13.1660\n",
            "Epoch 28/100\n",
            "2/2 [==============================] - 0s 4ms/step - loss: 14.2559 - mae: 14.2559\n",
            "Epoch 29/100\n",
            "2/2 [==============================] - 0s 4ms/step - loss: 10.0670 - mae: 10.0670\n",
            "Epoch 30/100\n",
            "2/2 [==============================] - 0s 4ms/step - loss: 16.3409 - mae: 16.3409\n",
            "Epoch 31/100\n",
            "2/2 [==============================] - 0s 5ms/step - loss: 23.6444 - mae: 23.6444\n",
            "Epoch 32/100\n",
            "2/2 [==============================] - 0s 4ms/step - loss: 7.6215 - mae: 7.6215\n",
            "Epoch 33/100\n",
            "2/2 [==============================] - 0s 7ms/step - loss: 9.3221 - mae: 9.3221\n",
            "Epoch 34/100\n",
            "2/2 [==============================] - 0s 5ms/step - loss: 13.7313 - mae: 13.7313\n",
            "Epoch 35/100\n",
            "2/2 [==============================] - 0s 5ms/step - loss: 11.1276 - mae: 11.1276\n",
            "Epoch 36/100\n",
            "2/2 [==============================] - 0s 7ms/step - loss: 13.3222 - mae: 13.3222\n",
            "Epoch 37/100\n",
            "2/2 [==============================] - 0s 7ms/step - loss: 9.4763 - mae: 9.4763\n",
            "Epoch 38/100\n",
            "2/2 [==============================] - 0s 7ms/step - loss: 10.1381 - mae: 10.1381\n",
            "Epoch 39/100\n",
            "2/2 [==============================] - 0s 5ms/step - loss: 10.1793 - mae: 10.1793\n",
            "Epoch 40/100\n",
            "2/2 [==============================] - 0s 6ms/step - loss: 10.9137 - mae: 10.9137\n",
            "Epoch 41/100\n",
            "2/2 [==============================] - 0s 6ms/step - loss: 7.9063 - mae: 7.9063\n",
            "Epoch 42/100\n",
            "2/2 [==============================] - 0s 6ms/step - loss: 10.0914 - mae: 10.0914\n",
            "Epoch 43/100\n",
            "2/2 [==============================] - 0s 6ms/step - loss: 8.7006 - mae: 8.7006\n",
            "Epoch 44/100\n",
            "2/2 [==============================] - 0s 7ms/step - loss: 12.2047 - mae: 12.2047\n",
            "Epoch 45/100\n",
            "2/2 [==============================] - 0s 6ms/step - loss: 13.7970 - mae: 13.7970\n",
            "Epoch 46/100\n",
            "2/2 [==============================] - 0s 8ms/step - loss: 8.4687 - mae: 8.4687\n",
            "Epoch 47/100\n",
            "2/2 [==============================] - 0s 6ms/step - loss: 9.1330 - mae: 9.1330\n",
            "Epoch 48/100\n",
            "2/2 [==============================] - 0s 5ms/step - loss: 10.6190 - mae: 10.6190\n",
            "Epoch 49/100\n",
            "2/2 [==============================] - 0s 7ms/step - loss: 7.7503 - mae: 7.7503\n",
            "Epoch 50/100\n",
            "2/2 [==============================] - 0s 7ms/step - loss: 9.5407 - mae: 9.5407\n",
            "Epoch 51/100\n",
            "2/2 [==============================] - 0s 6ms/step - loss: 9.1584 - mae: 9.1584\n",
            "Epoch 52/100\n",
            "2/2 [==============================] - 0s 8ms/step - loss: 16.3630 - mae: 16.3630\n",
            "Epoch 53/100\n",
            "2/2 [==============================] - 0s 8ms/step - loss: 14.1299 - mae: 14.1299\n",
            "Epoch 54/100\n",
            "2/2 [==============================] - 0s 6ms/step - loss: 21.1247 - mae: 21.1247\n",
            "Epoch 55/100\n",
            "2/2 [==============================] - 0s 7ms/step - loss: 16.3961 - mae: 16.3961\n",
            "Epoch 56/100\n",
            "2/2 [==============================] - 0s 7ms/step - loss: 9.9806 - mae: 9.9806\n",
            "Epoch 57/100\n",
            "2/2 [==============================] - 0s 6ms/step - loss: 9.9606 - mae: 9.9606\n",
            "Epoch 58/100\n",
            "2/2 [==============================] - 0s 5ms/step - loss: 9.2209 - mae: 9.2209\n",
            "Epoch 59/100\n",
            "2/2 [==============================] - 0s 5ms/step - loss: 8.4239 - mae: 8.4239\n",
            "Epoch 60/100\n",
            "2/2 [==============================] - 0s 5ms/step - loss: 9.4869 - mae: 9.4869\n",
            "Epoch 61/100\n",
            "2/2 [==============================] - 0s 5ms/step - loss: 11.4355 - mae: 11.4355\n",
            "Epoch 62/100\n",
            "2/2 [==============================] - 0s 4ms/step - loss: 11.6887 - mae: 11.6887\n",
            "Epoch 63/100\n",
            "2/2 [==============================] - 0s 5ms/step - loss: 7.0838 - mae: 7.0838\n",
            "Epoch 64/100\n",
            "2/2 [==============================] - 0s 6ms/step - loss: 16.9675 - mae: 16.9675\n",
            "Epoch 65/100\n",
            "2/2 [==============================] - 0s 5ms/step - loss: 12.4599 - mae: 12.4599\n",
            "Epoch 66/100\n",
            "2/2 [==============================] - 0s 7ms/step - loss: 13.0184 - mae: 13.0184\n",
            "Epoch 67/100\n",
            "2/2 [==============================] - 0s 7ms/step - loss: 8.0600 - mae: 8.0600\n",
            "Epoch 68/100\n",
            "2/2 [==============================] - 0s 7ms/step - loss: 10.1888 - mae: 10.1888\n",
            "Epoch 69/100\n",
            "2/2 [==============================] - 0s 5ms/step - loss: 12.3633 - mae: 12.3633\n",
            "Epoch 70/100\n",
            "2/2 [==============================] - 0s 6ms/step - loss: 9.0516 - mae: 9.0516\n",
            "Epoch 71/100\n",
            "2/2 [==============================] - 0s 6ms/step - loss: 10.0378 - mae: 10.0378\n",
            "Epoch 72/100\n",
            "2/2 [==============================] - 0s 5ms/step - loss: 10.0516 - mae: 10.0516\n",
            "Epoch 73/100\n",
            "2/2 [==============================] - 0s 6ms/step - loss: 12.6151 - mae: 12.6151\n",
            "Epoch 74/100\n",
            "2/2 [==============================] - 0s 7ms/step - loss: 10.3819 - mae: 10.3819\n",
            "Epoch 75/100\n",
            "2/2 [==============================] - 0s 6ms/step - loss: 9.7229 - mae: 9.7229\n",
            "Epoch 76/100\n",
            "2/2 [==============================] - 0s 5ms/step - loss: 11.2252 - mae: 11.2252\n",
            "Epoch 77/100\n",
            "2/2 [==============================] - 0s 6ms/step - loss: 8.3642 - mae: 8.3642\n",
            "Epoch 78/100\n",
            "2/2 [==============================] - 0s 5ms/step - loss: 9.1274 - mae: 9.1274\n",
            "Epoch 79/100\n",
            "2/2 [==============================] - 0s 7ms/step - loss: 19.5039 - mae: 19.5039\n",
            "Epoch 80/100\n",
            "2/2 [==============================] - 0s 4ms/step - loss: 14.8945 - mae: 14.8945\n",
            "Epoch 81/100\n",
            "2/2 [==============================] - 0s 7ms/step - loss: 9.0034 - mae: 9.0034\n",
            "Epoch 82/100\n",
            "2/2 [==============================] - 0s 6ms/step - loss: 13.0206 - mae: 13.0206\n",
            "Epoch 83/100\n",
            "2/2 [==============================] - 0s 9ms/step - loss: 7.9299 - mae: 7.9299\n",
            "Epoch 84/100\n",
            "2/2 [==============================] - 0s 5ms/step - loss: 7.6872 - mae: 7.6872\n",
            "Epoch 85/100\n",
            "2/2 [==============================] - 0s 4ms/step - loss: 10.0328 - mae: 10.0328\n",
            "Epoch 86/100\n",
            "2/2 [==============================] - 0s 5ms/step - loss: 9.2433 - mae: 9.2433\n",
            "Epoch 87/100\n",
            "2/2 [==============================] - 0s 5ms/step - loss: 12.0209 - mae: 12.0209\n",
            "Epoch 88/100\n",
            "2/2 [==============================] - 0s 6ms/step - loss: 10.6389 - mae: 10.6389\n",
            "Epoch 89/100\n",
            "2/2 [==============================] - 0s 6ms/step - loss: 7.2667 - mae: 7.2667\n",
            "Epoch 90/100\n",
            "2/2 [==============================] - 0s 8ms/step - loss: 12.7786 - mae: 12.7786\n",
            "Epoch 91/100\n",
            "2/2 [==============================] - 0s 5ms/step - loss: 7.3481 - mae: 7.3481\n",
            "Epoch 92/100\n",
            "2/2 [==============================] - 0s 4ms/step - loss: 7.7175 - mae: 7.7175\n",
            "Epoch 93/100\n",
            "2/2 [==============================] - 0s 7ms/step - loss: 7.1263 - mae: 7.1263\n",
            "Epoch 94/100\n",
            "2/2 [==============================] - 0s 4ms/step - loss: 12.6190 - mae: 12.6190\n",
            "Epoch 95/100\n",
            "2/2 [==============================] - 0s 6ms/step - loss: 10.0912 - mae: 10.0912\n",
            "Epoch 96/100\n",
            "2/2 [==============================] - 0s 6ms/step - loss: 9.3558 - mae: 9.3558\n",
            "Epoch 97/100\n",
            "2/2 [==============================] - 0s 6ms/step - loss: 12.6834 - mae: 12.6834\n",
            "Epoch 98/100\n",
            "2/2 [==============================] - 0s 5ms/step - loss: 8.6762 - mae: 8.6762\n",
            "Epoch 99/100\n",
            "2/2 [==============================] - 0s 5ms/step - loss: 9.4693 - mae: 9.4693\n",
            "Epoch 100/100\n",
            "2/2 [==============================] - 0s 6ms/step - loss: 8.7067 - mae: 8.7067\n"
          ]
        },
        {
          "output_type": "execute_result",
          "data": {
            "text/plain": [
              "<keras.callbacks.History at 0x7f57badf6a50>"
            ]
          },
          "metadata": {},
          "execution_count": 36
        }
      ]
    },
    {
      "cell_type": "code",
      "metadata": {
        "colab": {
          "base_uri": "https://localhost:8080/",
          "height": 265
        },
        "id": "QUKlLJzbGziv",
        "outputId": "a785786e-bc13-4003-e5dd-19cf81345315"
      },
      "source": [
        "y_preds_1 = model_1.predict(X_test)\n",
        "plot_predictions(predictions=y_preds_1)"
      ],
      "execution_count": 38,
      "outputs": [
        {
          "output_type": "display_data",
          "data": {
            "image/png": "[encoded data removed]",
            "text/plain": [
              "<Figure size 576x288 with 1 Axes>"
            ]
          },
          "metadata": {
            "needs_background": "light"
          }
        }
      ]
    },
    {
      "cell_type": "code",
      "metadata": {
        "colab": {
          "base_uri": "https://localhost:8080/"
        },
        "id": "1LQP5EAOIQK4",
        "outputId": "84bc8781-1271-4a1b-c698-1f24348d78e0"
      },
      "source": [
        "# Calculate model_1 metrics \n",
        "mae_1= mae(y_test, y_preds_1.squeeze()).numpy()\n",
        "mse_1= mse(y_test, y_preds_1.squeeze()).numpy()\n",
        "\n",
        "mae_1, mse_1"
      ],
      "execution_count": 40,
      "outputs": [
        {
          "output_type": "execute_result",
          "data": {
            "text/plain": [
              "(18.745327, 353.57336)"
            ]
          },
          "metadata": {},
          "execution_count": 40
        }
      ]
    },
    {
      "cell_type": "markdown",
      "metadata": {
        "id": "G1gqRHMgPX2F"
      },
      "source": [
        "**Building model_2**"
      ]
    },
    {
      "cell_type": "code",
      "metadata": {
        "colab": {
          "base_uri": "https://localhost:8080/"
        },
        "id": "TRlHYtG-PeoL",
        "outputId": "778417ae-01b0-4c66-e4bf-fbbb51a898fb"
      },
      "source": [
        "tf.random.set_seed(42)\n",
        "\n",
        "model_2 = tf.keras.Sequential([tf.keras.layers.Dense(1),\n",
        "                               tf.keras.layers.Dense(1)])\n",
        "\n",
        "model_2.compile(loss=tf.keras.losses.mae,\n",
        "                optimizer=tf.keras.optimizers.SGD(),\n",
        "                metrics=['mae'])\n",
        "\n",
        "model_2.fit(X_train,y_train,epochs=100, verbose=0)"
      ],
      "execution_count": 42,
      "outputs": [
        {
          "output_type": "execute_result",
          "data": {
            "text/plain": [
              "<keras.callbacks.History at 0x7f57ba2ebb90>"
            ]
          },
          "metadata": {},
          "execution_count": 42
        }
      ]
    },
    {
      "cell_type": "code",
      "metadata": {
        "colab": {
          "base_uri": "https://localhost:8080/",
          "height": 265
        },
        "id": "4bOXaRYLQN0M",
        "outputId": "ade6fe62-b995-42ad-855d-7099f1af525e"
      },
      "source": [
        "y_preds_2 = model_2.predict(X_test)\n",
        "plot_predictions(predictions=y_preds_2)"
      ],
      "execution_count": 43,
      "outputs": [
        {
          "output_type": "display_data",
          "data": {
            "image/png": "[encoded data removed]",
            "text/plain": [
              "<Figure size 576x288 with 1 Axes>"
            ]
          },
          "metadata": {
            "needs_background": "light"
          }
        }
      ]
    },
    {
      "cell_type": "code",
      "metadata": {
        "colab": {
          "base_uri": "https://localhost:8080/"
        },
        "id": "EEoPHd1hQe8w",
        "outputId": "5b13c804-401b-4790-84fe-b4078db9a68b"
      },
      "source": [
        "mae_2= mae(y_test, y_preds_2.squeeze()).numpy()\n",
        "mse_2= mse(y_test, y_preds_2.squeeze()).numpy()\n",
        "\n",
        "mae_2, mse_2"
      ],
      "execution_count": 44,
      "outputs": [
        {
          "output_type": "execute_result",
          "data": {
            "text/plain": [
              "(1.9098114, 5.459232)"
            ]
          },
          "metadata": {},
          "execution_count": 44
        }
      ]
    },
    {
      "cell_type": "markdown",
      "metadata": {
        "id": "aj_tEfm7QnTy"
      },
      "source": [
        "**Building model_3**"
      ]
    },
    {
      "cell_type": "code",
      "metadata": {
        "colab": {
          "base_uri": "https://localhost:8080/"
        },
        "id": "ftbVSZl4QrCS",
        "outputId": "1f3560f1-37a9-4e28-c7d0-e3e3405c8819"
      },
      "source": [
        "tf.random.set_seed(42)\n",
        "\n",
        "model_3 = tf.keras.Sequential([\n",
        "                               tf.keras.layers.Dense(1),\n",
        "                               tf.keras.layers.Dense(1)\n",
        "])\n",
        "\n",
        "model_3.compile(loss=tf.keras.losses.mae,\n",
        "                optimizer=tf.keras.optimizers.SGD(),\n",
        "                metrics=['mae'])\n",
        "\n",
        "model_3.fit(X_train,y_train,epochs=500,verbose=0)"
      ],
      "execution_count": 46,
      "outputs": [
        {
          "output_type": "execute_result",
          "data": {
            "text/plain": [
              "<keras.callbacks.History at 0x7f57ba0b62d0>"
            ]
          },
          "metadata": {},
          "execution_count": 46
        }
      ]
    },
    {
      "cell_type": "code",
      "metadata": {
        "colab": {
          "base_uri": "https://localhost:8080/",
          "height": 302
        },
        "id": "Jwb-6KCiRNjt",
        "outputId": "85842a43-aaf3-4248-b955-f9607de79312"
      },
      "source": [
        "y_preds_3 = model_3.predict(X_test)\n",
        "plot_predictions(predictions=y_preds_3)"
      ],
      "execution_count": 47,
      "outputs": [
        {
          "output_type": "stream",
          "name": "stdout",
          "text": [
            "WARNING:tensorflow:5 out of the last 5 calls to <function Model.make_predict_function.<locals>.predict_function at 0x7f57babe3950> triggered tf.function retracing. Tracing is expensive and the excessive number of tracings could be due to (1) creating @tf.function repeatedly in a loop, (2) passing tensors with different shapes, (3) passing Python objects instead of tensors. For (1), please define your @tf.function outside of the loop. For (2), @tf.function has experimental_relax_shapes=True option that relaxes argument shapes that can avoid unnecessary retracing. For (3), please refer to https://www.tensorflow.org/guide/function#controlling_retracing and https://www.tensorflow.org/api_docs/python/tf/function for  more details.\n"
          ]
        },
        {
          "output_type": "display_data",
          "data": {
            "image/png": "[encoded data removed]",
            "text/plain": [
              "<Figure size 576x288 with 1 Axes>"
            ]
          },
          "metadata": {
            "needs_background": "light"
          }
        }
      ]
    },
    {
      "cell_type": "code",
      "metadata": {
        "colab": {
          "base_uri": "https://localhost:8080/"
        },
        "id": "VfvjKHJCRXeo",
        "outputId": "37639361-4167-450f-ea4e-3e10f4add333"
      },
      "source": [
        "mae_3= mae(y_test, y_preds_3.squeeze()).numpy()\n",
        "mse_3= mse(y_test, y_preds_3.squeeze()).numpy()\n",
        "\n",
        "mae_3, mse_3"
      ],
      "execution_count": 48,
      "outputs": [
        {
          "output_type": "execute_result",
          "data": {
            "text/plain": [
              "(68.68786, 4804.4717)"
            ]
          },
          "metadata": {},
          "execution_count": 48
        }
      ]
    },
    {
      "cell_type": "markdown",
      "metadata": {
        "id": "5ot5ECOJRgHV"
      },
      "source": [
        "## Comparing results of all the models now"
      ]
    },
    {
      "cell_type": "code",
      "metadata": {
        "id": "A2O595cdRj1r"
      },
      "source": [
        "model_results = [[\"model_1\", mae_1, mse_1],\n",
        "                 [\"model_2\", mae_2, mse_2],\n",
        "                 [\"model_3\", mae_3, mse_3]]"
      ],
      "execution_count": 49,
      "outputs": []
    },
    {
      "cell_type": "code",
      "metadata": {
        "colab": {
          "base_uri": "https://localhost:8080/",
          "height": 142
        },
        "id": "XzqAK4fxRzUd",
        "outputId": "0479dda1-5cdc-4891-ed7b-5ec6adce8e6e"
      },
      "source": [
        "import pandas as pd\n",
        "\n",
        "all_results = pd.DataFrame(model_results, columns=[\"model\",\"mae\",\"mse\"])\n",
        "all_results"
      ],
      "execution_count": 52,
      "outputs": [
        {
          "output_type": "execute_result",
          "data": {
            "text/html": [
              "<div>\n",
              "<style scoped>\n",
              "    .dataframe tbody tr th:only-of-type {\n",
              "        vertical-align: middle;\n",
              "    }\n",
              "\n",
              "    .dataframe tbody tr th {\n",
              "        vertical-align: top;\n",
              "    }\n",
              "\n",
              "    .dataframe thead th {\n",
              "        text-align: right;\n",
              "    }\n",
              "</style>\n",
              "<table border=\"1\" class=\"dataframe\">\n",
              "  <thead>\n",
              "    <tr style=\"text-align: right;\">\n",
              "      <th></th>\n",
              "      <th>model</th>\n",
              "      <th>mae</th>\n",
              "      <th>mse</th>\n",
              "    </tr>\n",
              "  </thead>\n",
              "  <tbody>\n",
              "    <tr>\n",
              "      <th>0</th>\n",
              "      <td>model_1</td>\n",
              "      <td>18.745327</td>\n",
              "      <td>353.573364</td>\n",
              "    </tr>\n",
              "    <tr>\n",
              "      <th>1</th>\n",
              "      <td>model_2</td>\n",
              "      <td>1.909811</td>\n",
              "      <td>5.459232</td>\n",
              "    </tr>\n",
              "    <tr>\n",
              "      <th>2</th>\n",
              "      <td>model_3</td>\n",
              "      <td>68.687859</td>\n",
              "      <td>4804.471680</td>\n",
              "    </tr>\n",
              "  </tbody>\n",
              "</table>\n",
              "</div>"
            ],
            "text/plain": [
              "     model        mae          mse\n",
              "0  model_1  18.745327   353.573364\n",
              "1  model_2   1.909811     5.459232\n",
              "2  model_3  68.687859  4804.471680"
            ]
          },
          "metadata": {},
          "execution_count": 52
        }
      ]
    },
    {
      "cell_type": "markdown",
      "metadata": {
        "id": "CSjUAg9rR_kX"
      },
      "source": [
        "From our experiments, it looks like model_2 performed the best."
      ]
    },
    {
      "cell_type": "markdown",
      "metadata": {
        "id": "7XxLiaIjSYr6"
      },
      "source": [
        "# Saving my model "
      ]
    },
    {
      "cell_type": "code",
      "metadata": {
        "colab": {
          "base_uri": "https://localhost:8080/"
        },
        "id": "NAf_0KiwSfIA",
        "outputId": "acde23af-3cfa-42e7-b0e8-028f3d76aa7f"
      },
      "source": [
        "# Saving model 2 as it perfomed the best \n",
        "\n",
        "model_2.save('best_model_SavedModel_format')"
      ],
      "execution_count": 53,
      "outputs": [
        {
          "output_type": "stream",
          "name": "stdout",
          "text": [
            "INFO:tensorflow:Assets written to: best_model_SavedModel_format/assets\n"
          ]
        }
      ]
    },
    {
      "cell_type": "code",
      "metadata": {
        "id": "hQa5LU24SoH2"
      },
      "source": [
        ""
      ],
      "execution_count": null,
      "outputs": []
    }
  ]
}